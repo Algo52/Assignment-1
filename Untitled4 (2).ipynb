{
 "cells": [
  {
   "cell_type": "raw",
   "id": "7caeef6e",
   "metadata": {},
   "source": [
    "1. In the below elements which of them are values or an expression? eg:- values can be\n",
    "integer or string and expressions will be mathematical operators.\n",
    "\n",
    "* =expression\n",
    "\n",
    "& =expression \n",
    "\n",
    "-87.8=values\n",
    "\n",
    "hello= values\n",
    "\n",
    "- = expression\n",
    "\n",
    "/ =expression\n",
    "\n",
    "+ =expression\n",
    "\n",
    "6 =values\n",
    "\n",
    " \n"
   ]
  },
  {
   "cell_type": "raw",
   "id": "2e2f694a",
   "metadata": {},
   "source": [
    "2. What is the difference between string and variable?\n",
    " \n",
    "    string is a  sequenced characters and is written inside single quotes, double quotes or triple quotes.\n",
    "    variable is used to hold value OR  for storing data values ETC.\n",
    "    "
   ]
  },
  {
   "cell_type": "raw",
   "id": "6e989c52",
   "metadata": {},
   "source": [
    "3. Describe three different data types.\n",
    "\n",
    "   \n",
    "\"Hello World\"\tstr=\n",
    " 20\t            int=\n",
    " 20.5\t        float\n",
    "  6+5j           complex\n",
    "   "
   ]
  },
  {
   "cell_type": "raw",
   "id": "6689654c",
   "metadata": {},
   "source": [
    "\n",
    "4. What is an expression made up of? What do all expressions do?\n"
   ]
  },
  {
   "cell_type": "raw",
   "id": "aeced00d",
   "metadata": {},
   "source": [
    "5. This assignment statements, like spam = 10. What is the difference between an\n",
    "Zxpression and a statement?"
   ]
  },
  {
   "cell_type": "raw",
   "id": "2ff77fdd",
   "metadata": {},
   "source": [
    "6. After running the following code, what does the variable bacon contain?\n",
    "bacon = 22\n",
    "bacon + 1\n",
    "\n",
    "bacon=23"
   ]
  },
  {
   "cell_type": "raw",
   "id": "f01725d5",
   "metadata": {},
   "source": [
    "7. What should the values of the following two terms be?\n",
    " \n",
    " 'spam'*3='spamspamspam'\n",
    "  'spam'+'spamspam'='spamspamspam'"
   ]
  },
  {
   "cell_type": "raw",
   "id": "11e0840d",
   "metadata": {},
   "source": [
    "8. Why is eggs a valid variable name while 100 is invalid?\n",
    "     \n",
    "     Variable names cannot begin with a number."
   ]
  },
  {
   "cell_type": "raw",
   "id": "39c3e8b6",
   "metadata": {},
   "source": [
    "9.  What three functions can be used to get the integer, floating-point number, or string version of a value?\n",
    "\n",
    "   int(), float(), and str() "
   ]
  },
  {
   "cell_type": "raw",
   "id": "8e0b2f5f",
   "metadata": {},
   "source": [
    "10. Why does this expression cause an error? How can you fix it?\n",
    "     \n",
    "    'i have eaten'+99+'burritos'\n",
    "     \n",
    "     \n",
    "     Because 99 is an integer and only strings can be concatenated to other strings.\n",
    "     \n",
    "    'I have eaten ' + str(99) + ' burritos.'"
   ]
  },
  {
   "cell_type": "code",
   "execution_count": null,
   "id": "bf4b9495",
   "metadata": {},
   "outputs": [],
   "source": []
  }
 ],
 "metadata": {
  "kernelspec": {
   "display_name": "Python 3 (ipykernel)",
   "language": "python",
   "name": "python3"
  },
  "language_info": {
   "codemirror_mode": {
    "name": "ipython",
    "version": 3
   },
   "file_extension": ".py",
   "mimetype": "text/x-python",
   "name": "python",
   "nbconvert_exporter": "python",
   "pygments_lexer": "ipython3",
   "version": "3.9.7"
  }
 },
 "nbformat": 4,
 "nbformat_minor": 5
}
