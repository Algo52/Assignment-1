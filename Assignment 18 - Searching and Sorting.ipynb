{
 "cells": [
  {
   "cell_type": "markdown",
   "id": "df756d6c",
   "metadata": {},
   "source": [
    "## Question 1\n",
    "Merge Intervals\n",
    "Given an array of intervals where intervals[i] = [starti, endi], merge all overlapping intervals, and return an array of the non-overlapping intervals that cover all the intervals in the input.\n",
    "Example 1:\n",
    "Input: intervals = [[1,3],[2,6],[8,10],[15,18]]\n",
    "Output: [[1,6],[8,10],[15,18]]\n",
    "Explanation: Since intervals [1,3] and [2,6] overlap, merge them into [1,6]."
   ]
  },
  {
   "cell_type": "code",
   "execution_count": 1,
   "id": "428986c4",
   "metadata": {},
   "outputs": [
    {
     "name": "stdout",
     "output_type": "stream",
     "text": [
      "[[1, 6], [8, 10], [15, 18]]\n",
      "[[1, 5]]\n"
     ]
    }
   ],
   "source": [
    "def merge_intervals(intervals):\n",
    "    # Sort intervals based on start time\n",
    "    intervals.sort(key=lambda x: x[0])\n",
    "    \n",
    "    # Initialize result list\n",
    "    merged = []\n",
    "    \n",
    "    # Iterate through intervals\n",
    "    for interval in intervals:\n",
    "        # If merged list is empty or current interval does not overlap with previous interval\n",
    "        if not merged or interval[0] > merged[-1][1]:\n",
    "            merged.append(interval)\n",
    "        else:\n",
    "            # Merge the intervals by updating the end time\n",
    "            merged[-1][1] = max(merged[-1][1], interval[1])\n",
    "    \n",
    "    return merged\n",
    "intervals1 = [[1,3],[2,6],[8,10],[15,18]]\n",
    "print(merge_intervals(intervals1))\n",
    "intervals2 = [[1,4],[4,5]]\n",
    "print(merge_intervals(intervals2)) "
   ]
  },
  {
   "cell_type": "markdown",
   "id": "badeac70",
   "metadata": {},
   "source": [
    "## Question 2\n",
    "Sort Colors\n",
    "Given an array nums with n objects colored red, white, or blue, sort them in-place so that objects of the same color are adjacent, with the colors in the order red, white, and blue.\n",
    "We will use the integers 0, 1, and 2 to represent the color red, white, and blue, respectively.\n",
    "You must solve this problem without using the library's sort function."
   ]
  },
  {
   "cell_type": "code",
   "execution_count": 2,
   "id": "6f61137b",
   "metadata": {},
   "outputs": [
    {
     "name": "stdout",
     "output_type": "stream",
     "text": [
      "[0, 0, 1, 1, 2, 2]\n",
      "[0, 1, 2]\n"
     ]
    }
   ],
   "source": [
    "def sortColors(nums):\n",
    "    low = mid = 0\n",
    "    high = len(nums) - 1\n",
    "    \n",
    "    while mid <= high:\n",
    "        if nums[mid] == 0:\n",
    "            nums[mid], nums[low] = nums[low], nums[mid]\n",
    "            low += 1\n",
    "            mid += 1\n",
    "        elif nums[mid] == 1:\n",
    "            mid += 1\n",
    "        else:\n",
    "            nums[mid], nums[high] = nums[high], nums[mid]\n",
    "            high -= 1\n",
    "nums1 = [2,0,2,1,1,0]\n",
    "sortColors(nums1)\n",
    "print(nums1)\n",
    "nums2 = [2,0,1]\n",
    "sortColors(nums2)\n",
    "print(nums2) "
   ]
  },
  {
   "cell_type": "markdown",
   "id": "a111679f",
   "metadata": {},
   "source": [
    "## Question 3\n",
    "First Bad Version Solution\n",
    "You are a product manager and currently leading a team to develop a new product. Unfortunately, the latest version of your product fails the quality check. Since each version is developed based on the previous version, all the versions after a bad version are also bad.\n",
    "Suppose you have n versions [1, 2, ..., n] and you want to find out the first bad one, which causes all the following ones to be bad.\n",
    "You are given an API bool isBadVersion(version) which returns whether version is bad. Implement a function to find the first bad version. You should minimize the number of calls to the API."
   ]
  },
  {
   "cell_type": "code",
   "execution_count": 3,
   "id": "04fa8980",
   "metadata": {},
   "outputs": [
    {
     "name": "stdout",
     "output_type": "stream",
     "text": [
      "5\n"
     ]
    }
   ],
   "source": [
    "def isBadVersion(version):\n",
    "    pass\n",
    "\n",
    "def firstBadVersion(n):\n",
    "    left = 1\n",
    "    right = n\n",
    "\n",
    "    while left < right:\n",
    "        mid = left + (right - left) // 2\n",
    "        if isBadVersion(mid):\n",
    "            right = mid\n",
    "        else:\n",
    "            left = mid + 1\n",
    "\n",
    "    return left\n",
    "\n",
    "n = 5\n",
    "bad = 4\n",
    "first_bad = firstBadVersion(n)\n",
    "print(first_bad)"
   ]
  },
  {
   "cell_type": "code",
   "execution_count": 4,
   "id": "052321bf",
   "metadata": {},
   "outputs": [
    {
     "name": "stdout",
     "output_type": "stream",
     "text": [
      "5\n",
      "1\n"
     ]
    }
   ],
   "source": [
    "n1 = 5\n",
    "bad1 = 4\n",
    "print(firstBadVersion(n1))\n",
    "\n",
    "n2 = 1\n",
    "bad2 = 1\n",
    "print(firstBadVersion(n2))"
   ]
  },
  {
   "cell_type": "markdown",
   "id": "211e208a",
   "metadata": {},
   "source": [
    "## Question 4\n",
    "Maximum Gap\n",
    "Given an integer array nums, return the maximum difference between two successive elements in its sorted form. If the array contains less than two elements, return 0.\n",
    "You must write an algorithm that runs in linear time and uses linear extra space.\n",
    "Example 1:\n",
    "Input: nums = [3,6,9,1]\n",
    "Output: 3\n",
    "Explanation: The sorted form of the array is [1,3,6,9], either (3,6) or (6,9) has the maximum difference 3.\n",
    "\n",
    "Example 2:\n",
    "Input: nums = [10]\n",
    "Output: 0\n",
    "Explanation: The array contains less than 2 elements, therefore return 0."
   ]
  },
  {
   "cell_type": "code",
   "execution_count": 5,
   "id": "11b5a135",
   "metadata": {},
   "outputs": [
    {
     "name": "stdout",
     "output_type": "stream",
     "text": [
      "3\n",
      "0\n"
     ]
    }
   ],
   "source": [
    "def maximumGap(nums):\n",
    "    if len(nums) < 2:\n",
    "        return 0\n",
    "    \n",
    "    max_num = max(nums)\n",
    "    exp = 1\n",
    "    \n",
    "    while max_num // exp > 0:\n",
    "        counting_array = [0] * 10\n",
    "        \n",
    "        for num in nums:\n",
    "            digit = (num // exp) % 10\n",
    "            counting_array[digit] += 1\n",
    "        \n",
    "        for i in range(1, 10):\n",
    "            counting_array[i] += counting_array[i - 1]\n",
    "        \n",
    "        output = [0] * len(nums)\n",
    "        \n",
    "        for i in range(len(nums) - 1, -1, -1):\n",
    "            num = nums[i]\n",
    "            digit = (num // exp) % 10\n",
    "            position = counting_array[digit] - 1\n",
    "            output[position] = num\n",
    "            counting_array[digit] -= 1\n",
    "        \n",
    "        nums = output\n",
    "        exp *= 10\n",
    "    \n",
    "    max_gap = 0\n",
    "    \n",
    "    for i in range(1, len(nums)):\n",
    "        max_gap = max(max_gap, nums[i] - nums[i - 1])\n",
    "    \n",
    "    return max_gap\n",
    "nums1 = [3, 6, 9, 1]\n",
    "print(maximumGap(nums1)) \n",
    "\n",
    "nums2 = [10]\n",
    "print(maximumGap(nums2)) "
   ]
  },
  {
   "cell_type": "markdown",
   "id": "3ffb6404",
   "metadata": {},
   "source": [
    "## Question 5\n",
    "Contains Duplicate\n",
    "Given an integer array nums, return true if any value appears at least twice in the array, and return false if every element is distinct."
   ]
  },
  {
   "cell_type": "code",
   "execution_count": 6,
   "id": "cffc703b",
   "metadata": {},
   "outputs": [
    {
     "name": "stdout",
     "output_type": "stream",
     "text": [
      "True\n",
      "False\n",
      "True\n"
     ]
    }
   ],
   "source": [
    "def containsDuplicate(nums):\n",
    "    seen = set()\n",
    "    for num in nums:\n",
    "        if num in seen:\n",
    "            return True\n",
    "        seen.add(num)\n",
    "    return False\n",
    "nums1 = [1, 2, 3, 1]\n",
    "print(containsDuplicate(nums1)) \n",
    "\n",
    "nums2 = [1, 2, 3, 4]\n",
    "print(containsDuplicate(nums2)) \n",
    "\n",
    "nums3 = [1, 1, 1, 3, 3, 4, 3, 2, 4, 2]\n",
    "print(containsDuplicate(nums3))"
   ]
  },
  {
   "cell_type": "markdown",
   "id": "18274c35",
   "metadata": {},
   "source": [
    "## Question 6\n",
    "Minimum Number of Arrows to Burst Balloons\n",
    "- There are some spherical balloons taped onto a flat wall that represents the XY-plane. The balloons are represented as a 2D integer array points where points[i] = [xstart, xend] denotes a balloon whose horizontal diameter stretches between xstart and xend. You do not know the exact y-coordinates of the balloons.\n",
    "Arrows can be shot up directly vertically (in the positive y-direction) from different points along the x-axis. A balloon with xstart and xend is burst by an arrow shot at x if xstart <= x <= xend. There is no limit to the number of arrows that can be shot. A shot arrow keeps traveling up infinitely, bursting any balloons in its path."
   ]
  },
  {
   "cell_type": "code",
   "execution_count": 7,
   "id": "9e969846",
   "metadata": {},
   "outputs": [
    {
     "name": "stdout",
     "output_type": "stream",
     "text": [
      "2\n",
      "4\n",
      "2\n"
     ]
    }
   ],
   "source": [
    "def findMinArrowShots(points):\n",
    "    if not points:\n",
    "        return 0\n",
    "\n",
    "    points.sort(key=lambda x: x[1])\n",
    "    count = 1\n",
    "    end = points[0][1]\n",
    "\n",
    "    for i in range(1, len(points)):\n",
    "        if points[i][0] > end:\n",
    "            count += 1\n",
    "            end = points[i][1]\n",
    "\n",
    "    return count\n",
    "points1 = [[10, 16], [2, 8], [1, 6], [7, 12]]\n",
    "print(findMinArrowShots(points1))  \n",
    "points2 = [[1, 2], [3, 4], [5, 6], [7, 8]]\n",
    "print(findMinArrowShots(points2))  \n",
    "\n",
    "points3 = [[1, 2], [2, 3], [3, 4], [4, 5]]\n",
    "print(findMinArrowShots(points3))"
   ]
  },
  {
   "cell_type": "markdown",
   "id": "2abeae44",
   "metadata": {},
   "source": [
    "## Question 7\n",
    "Longest Increasing Subsequence\n",
    "Given an integer array nums, return the length of the longest strictly increasing**\n",
    "*subsequence*"
   ]
  },
  {
   "cell_type": "code",
   "execution_count": 8,
   "id": "23a851c1",
   "metadata": {},
   "outputs": [
    {
     "name": "stdout",
     "output_type": "stream",
     "text": [
      "4\n",
      "4\n",
      "1\n"
     ]
    }
   ],
   "source": [
    "def lengthOfLIS(nums):\n",
    "    n = len(nums)\n",
    "    if n == 0:\n",
    "        return 0\n",
    "\n",
    "    dp = [1] * n\n",
    "\n",
    "    for i in range(1, n):\n",
    "        for j in range(i):\n",
    "            if nums[i] > nums[j]:\n",
    "                dp[i] = max(dp[i], dp[j] + 1)\n",
    "\n",
    "    return max(dp)\n",
    "nums1 = [10, 9, 2, 5, 3, 7, 101, 18]\n",
    "print(lengthOfLIS(nums1))  \n",
    "nums2 = [0, 1, 0, 3, 2, 3]\n",
    "print(lengthOfLIS(nums2)) \n",
    "nums3 = [7, 7, 7, 7, 7, 7, 7]\n",
    "print(lengthOfLIS(nums3))"
   ]
  },
  {
   "cell_type": "markdown",
   "id": "2b57ceac",
   "metadata": {},
   "source": [
    "## Question 8\n",
    "32 Pattern\n",
    "Given an array of n integers nums, a 132 pattern is a subsequence of three integers nums[i], nums[j] and nums[k] such that i < j < k and nums[i] < nums[k] < nums[j].\n",
    "Return true if there is a 132 pattern in nums, otherwise, return false.\n",
    "Example 1:\n",
    "Input: nums = [1,2,3,4]\n",
    "Output: false\n",
    "Explanation: There is no 132 pattern in the sequence.\n"
   ]
  },
  {
   "cell_type": "code",
   "execution_count": 9,
   "id": "d3a1b1b2",
   "metadata": {},
   "outputs": [
    {
     "name": "stdout",
     "output_type": "stream",
     "text": [
      "False\n",
      "True\n",
      "True\n"
     ]
    }
   ],
   "source": [
    "def find132pattern(nums):\n",
    "    stack = []\n",
    "    max_val = float('-inf')\n",
    "\n",
    "    for i in range(len(nums) - 1, -1, -1):\n",
    "        if nums[i] < max_val:\n",
    "            return True\n",
    "\n",
    "        while stack and nums[i] > stack[-1]:\n",
    "            max_val = max(max_val, stack.pop())\n",
    "\n",
    "        stack.append(nums[i])\n",
    "\n",
    "    return False\n",
    "nums1 = [1, 2, 3, 4]\n",
    "print(find132pattern(nums1))\n",
    "\n",
    "nums2 = [3, 1, 4, 2]\n",
    "print(find132pattern(nums2)) \n",
    "nums3 = [-1, 3, 2, 0]\n",
    "print(find132pattern(nums3))"
   ]
  },
  {
   "cell_type": "code",
   "execution_count": null,
   "id": "49b89b55",
   "metadata": {},
   "outputs": [],
   "source": []
  }
 ],
 "metadata": {
  "kernelspec": {
   "display_name": "Python 3 (ipykernel)",
   "language": "python",
   "name": "python3"
  },
  "language_info": {
   "codemirror_mode": {
    "name": "ipython",
    "version": 3
   },
   "file_extension": ".py",
   "mimetype": "text/x-python",
   "name": "python",
   "nbconvert_exporter": "python",
   "pygments_lexer": "ipython3",
   "version": "3.9.7"
  }
 },
 "nbformat": 4,
 "nbformat_minor": 5
}
