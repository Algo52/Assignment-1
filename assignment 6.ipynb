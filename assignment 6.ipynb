{
 "cells": [
  {
   "cell_type": "markdown",
   "id": "b1e57ce6",
   "metadata": {},
   "source": [
    "### 1. What are escape characters, and how do you use them?\n",
    "- Escape Characters- to insert characters that are illegal in a string, use an escape character.\n",
    "An escape character is a backslash \\ followed by the character you want to insert."
   ]
  },
  {
   "cell_type": "markdown",
   "id": "251f289c",
   "metadata": {},
   "source": [
    "### 2. What do the escape characters n and t stand for?\n",
    "- \"\\t\" is a tab, \"\\n\" is a newline."
   ]
  },
  {
   "cell_type": "markdown",
   "id": "f26116c3",
   "metadata": {},
   "source": [
    "### 3.What is the way to include backslash characters in a string?\n",
    "- print('its a back slash \\\\ in a sentence')"
   ]
  },
  {
   "cell_type": "code",
   "execution_count": 1,
   "id": "00f5778b",
   "metadata": {},
   "outputs": [
    {
     "name": "stdout",
     "output_type": "stream",
     "text": [
      "its a back slash \\ in a sentence\n"
     ]
    }
   ],
   "source": [
    "print('its a back slash \\\\ in a sentence')"
   ]
  },
  {
   "cell_type": "markdown",
   "id": "3cbef968",
   "metadata": {},
   "source": [
    "### 4. The string \"Howl's Moving Castle\" is a correct value. Why isn't the single quote character in the word Howl's not escaped a problem?\n",
    "- The single quote in Howl's is fine because you've used double quotes to mark the beginning and end of the string. \n",
    "like wise we can use double quotes in with single quotes."
   ]
  },
  {
   "cell_type": "code",
   "execution_count": 5,
   "id": "0984569f",
   "metadata": {},
   "outputs": [
    {
     "name": "stdout",
     "output_type": "stream",
     "text": [
      "Howl's Moving Castle\n"
     ]
    }
   ],
   "source": [
    "print(\"Howl's Moving Castle\")"
   ]
  },
  {
   "cell_type": "markdown",
   "id": "0c143765",
   "metadata": {},
   "source": [
    "### 5. How do you write a string of newlines if you don't want to use the n character?\n",
    "- we can use the parameter end ='\\n' in print function."
   ]
  },
  {
   "cell_type": "markdown",
   "id": "15da0745",
   "metadata": {},
   "source": [
    "### 6. What are the values of the given expressions?\n",
    "- 'Hello, world!'[1] - > e\n",
    "- 'Hello, world!'[0:5] -> 'Hello\n",
    "- 'Hello, world!'[:5] -> Hello\n",
    "- 'Hello, world!'[3:] -> lo, world!"
   ]
  },
  {
   "cell_type": "code",
   "execution_count": 6,
   "id": "744eb8ea",
   "metadata": {},
   "outputs": [
    {
     "data": {
      "text/plain": [
       "'e'"
      ]
     },
     "execution_count": 6,
     "metadata": {},
     "output_type": "execute_result"
    }
   ],
   "source": [
    "'Hello, world!'[1]"
   ]
  },
  {
   "cell_type": "code",
   "execution_count": 9,
   "id": "41d42833",
   "metadata": {},
   "outputs": [
    {
     "data": {
      "text/plain": [
       "'Hello'"
      ]
     },
     "execution_count": 9,
     "metadata": {},
     "output_type": "execute_result"
    }
   ],
   "source": [
    "'Hello, world!'[0:5] \n"
   ]
  },
  {
   "cell_type": "code",
   "execution_count": 10,
   "id": "ed325520",
   "metadata": {},
   "outputs": [
    {
     "data": {
      "text/plain": [
       "'Hello'"
      ]
     },
     "execution_count": 10,
     "metadata": {},
     "output_type": "execute_result"
    }
   ],
   "source": [
    "'Hello, world!'[:5] \n"
   ]
  },
  {
   "cell_type": "code",
   "execution_count": 12,
   "id": "ea6b4fb8",
   "metadata": {},
   "outputs": [
    {
     "data": {
      "text/plain": [
       "'lo, world!'"
      ]
     },
     "execution_count": 12,
     "metadata": {},
     "output_type": "execute_result"
    }
   ],
   "source": [
    "'Hello, world!'[3:] "
   ]
  },
  {
   "cell_type": "markdown",
   "id": "b0664939",
   "metadata": {},
   "source": [
    "### 7. What are the values of the following expressions?\n",
    "- 'Hello'.upper() - > HELLO\n",
    "- 'Hello'.upper().isupper() -> True\n",
    "- 'Hello'.upper().lower() -> hello"
   ]
  },
  {
   "cell_type": "code",
   "execution_count": 14,
   "id": "2922b3d4",
   "metadata": {},
   "outputs": [
    {
     "data": {
      "text/plain": [
       "'HELLO'"
      ]
     },
     "execution_count": 14,
     "metadata": {},
     "output_type": "execute_result"
    }
   ],
   "source": [
    "'Hello'.upper()"
   ]
  },
  {
   "cell_type": "code",
   "execution_count": 15,
   "id": "42de1b61",
   "metadata": {},
   "outputs": [
    {
     "data": {
      "text/plain": [
       "True"
      ]
     },
     "execution_count": 15,
     "metadata": {},
     "output_type": "execute_result"
    }
   ],
   "source": [
    "'Hello'.upper().isupper() "
   ]
  },
  {
   "cell_type": "code",
   "execution_count": 16,
   "id": "16f8ba3e",
   "metadata": {},
   "outputs": [
    {
     "data": {
      "text/plain": [
       "'hello'"
      ]
     },
     "execution_count": 16,
     "metadata": {},
     "output_type": "execute_result"
    }
   ],
   "source": [
    "'Hello'.upper().lower()"
   ]
  },
  {
   "cell_type": "markdown",
   "id": "815863e4",
   "metadata": {},
   "source": [
    "### 8. What are the values of the following expressions?\n",
    "- 'Remember, remember, the fifth of July.'.split() -> splits with space and returns list of words\n",
    "- '-'.join('There can only one.'.split())-> splits with space and join with '_'"
   ]
  },
  {
   "cell_type": "code",
   "execution_count": 17,
   "id": "917b9299",
   "metadata": {},
   "outputs": [
    {
     "data": {
      "text/plain": [
       "'There-can-only-one.'"
      ]
     },
     "execution_count": 17,
     "metadata": {},
     "output_type": "execute_result"
    }
   ],
   "source": [
    "'-'.join('There can only one.'.split())"
   ]
  },
  {
   "cell_type": "code",
   "execution_count": 18,
   "id": "53d9ec9e",
   "metadata": {},
   "outputs": [
    {
     "data": {
      "text/plain": [
       "['Remember,', 'remember,', 'the', 'fifth', 'of', 'July.']"
      ]
     },
     "execution_count": 18,
     "metadata": {},
     "output_type": "execute_result"
    }
   ],
   "source": [
    "'Remember, remember, the fifth of July.'.split()"
   ]
  },
  {
   "cell_type": "markdown",
   "id": "c4a3b0f6",
   "metadata": {},
   "source": [
    "### 9. What are the methods for right-justifying, left-justifying, and centering a string?\n",
    "- The following methods are used for justifying strings\n",
    "- ljust()\n",
    "- rjust()\n",
    "- center()"
   ]
  },
  {
   "cell_type": "code",
   "execution_count": 21,
   "id": "8b9cd11b",
   "metadata": {},
   "outputs": [
    {
     "data": {
      "text/plain": [
       "'Hello--'"
      ]
     },
     "execution_count": 21,
     "metadata": {},
     "output_type": "execute_result"
    }
   ],
   "source": [
    "# left justified\n",
    "str =\"Hello\"\n",
    "str.ljust(7,\"-\")"
   ]
  },
  {
   "cell_type": "code",
   "execution_count": 24,
   "id": "ebec7381",
   "metadata": {},
   "outputs": [
    {
     "data": {
      "text/plain": [
       "'****How are you'"
      ]
     },
     "execution_count": 24,
     "metadata": {},
     "output_type": "execute_result"
    }
   ],
   "source": [
    "# right justified\n",
    "str =\"How are you\"\n",
    "str.rjust(15,'*')"
   ]
  },
  {
   "cell_type": "code",
   "execution_count": 25,
   "id": "f6d9cf57",
   "metadata": {},
   "outputs": [
    {
     "data": {
      "text/plain": [
       "'**************How are you***************'"
      ]
     },
     "execution_count": 25,
     "metadata": {},
     "output_type": "execute_result"
    }
   ],
   "source": [
    "# center justified\n",
    "str =\"How are you\"\n",
    "str.center(40,'*')"
   ]
  },
  {
   "cell_type": "markdown",
   "id": "26f378d0",
   "metadata": {},
   "source": [
    "### 10. What is the best way to remove whitespace characters from the start or end?\n",
    "- lstrip() -> removes white spaces from left of the string\n",
    "- rstrip() -> removes whitespaces from right of the string"
   ]
  },
  {
   "cell_type": "code",
   "execution_count": 30,
   "id": "ba0a8e36",
   "metadata": {},
   "outputs": [
    {
     "data": {
      "text/plain": [
       "'Hemanth'"
      ]
     },
     "execution_count": 30,
     "metadata": {},
     "output_type": "execute_result"
    }
   ],
   "source": [
    "str =\"     Hemanth          \"\n",
    "str.lstrip().rstrip()"
   ]
  },
  {
   "cell_type": "code",
   "execution_count": null,
   "id": "e2d67983",
   "metadata": {},
   "outputs": [],
   "source": []
  }
 ],
 "metadata": {
  "kernelspec": {
   "display_name": "Python 3 (ipykernel)",
   "language": "python",
   "name": "python3"
  },
  "language_info": {
   "codemirror_mode": {
    "name": "ipython",
    "version": 3
   },
   "file_extension": ".py",
   "mimetype": "text/x-python",
   "name": "python",
   "nbconvert_exporter": "python",
   "pygments_lexer": "ipython3",
   "version": "3.9.7"
  }
 },
 "nbformat": 4,
 "nbformat_minor": 5
}
