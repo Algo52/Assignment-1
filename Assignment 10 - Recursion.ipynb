{
 "cells": [
  {
   "cell_type": "markdown",
   "id": "247dc993",
   "metadata": {},
   "source": [
    "### Question 1** Given an integer n, return true if it is a power of three. Otherwise, return false. An integer n is a power of three, if there exists an integer x such that n == 3x.\n",
    "Example 1:\n",
    "\n",
    "Input: n = 27\n",
    "Output: true\n",
    "Explanation: 27 = 33\n",
    "Example 2:\n",
    "\n",
    "Input: n = 0\n",
    "Output: false\n",
    "Explanation: There is no x where 3x = 0.\n",
    "\n",
    "Example 3:"
   ]
  },
  {
   "cell_type": "code",
   "execution_count": 1,
   "id": "dc69c314",
   "metadata": {},
   "outputs": [
    {
     "name": "stdout",
     "output_type": "stream",
     "text": [
      "True\n",
      "False\n"
     ]
    }
   ],
   "source": [
    "def isPowerOfThree(n):\n",
    "    if n <= 0:\n",
    "        return False\n",
    "\n",
    "    while n % 3 == 0:\n",
    "        n /= 3\n",
    "\n",
    "    return n == 1\n",
    "print(isPowerOfThree(27))  # Output: True\n",
    "print(isPowerOfThree(0))   # Output: False"
   ]
  },
  {
   "cell_type": "markdown",
   "id": "9a19b790",
   "metadata": {},
   "source": [
    "### Question 2** you have a list arr of all integers in the range [1, n] sorted in a strictly increasing order. Apply the following algorithm on arr:\n",
    "Starting from left to right, remove the first number and every other number afterward until you reach the end of the list.\n",
    "Repeat the previous step again, but this time from right to left, remove the rightmost number and every other number from the remaining numbers.\n",
    "Keep repeating the steps again, alternating left to right and right to left, until a single number remains.\n",
    "Given the integer n, return the last number that remains in arr.\n",
    "\n",
    "Example 1:\n",
    "\n",
    "Input: n = 9\n",
    "Output: 6\n",
    "Explanation:\n",
    "arr = [1, 2,3, 4,5, 6,7, 8,9]\n",
    "arr = [2,4, 6,8]\n",
    "arr = [2, 6]\n",
    "arr = [6]\n",
    "\n",
    "Example 2:"
   ]
  },
  {
   "cell_type": "code",
   "execution_count": 2,
   "id": "4872edb5",
   "metadata": {},
   "outputs": [
    {
     "name": "stdout",
     "output_type": "stream",
     "text": [
      "4\n"
     ]
    }
   ],
   "source": [
    "def lastRemaining(n):\n",
    "    leftToRight = True\n",
    "    remaining = n\n",
    "    step = 1\n",
    "\n",
    "    while remaining > 1:\n",
    "        if leftToRight or remaining % 2 == 1:\n",
    "            step *= 2\n",
    "\n",
    "        remaining //= 2\n",
    "        leftToRight = not leftToRight\n",
    "\n",
    "    return step\n",
    "print(lastRemaining(9))  # Output: 6"
   ]
  },
  {
   "cell_type": "markdown",
   "id": "120f86e8",
   "metadata": {},
   "source": [
    "### Question 3 Given a set represented as a string, write a recursive code to print all subsets of it. The subsets can be printed in any order.\n",
    "Example 1:\n",
    "\n",
    "Input :  set = “abc”\n",
    "\n",
    "Output : { “”, “a”, “b”, “c”, “ab”, “ac”, “bc”, “abc”}\n",
    "\n",
    "Example 2:\n",
    "\n",
    "Input : set = “abcd”\n",
    "\n",
    "Output : { “”, “a” ,”ab” ,”abc” ,”abcd”, “abd” ,”ac” ,”acd”, “ad” ,”b”, “bc” ,”bcd” ,”bd” ,”c” ,”cd” ,”d” }"
   ]
  },
  {
   "cell_type": "code",
   "execution_count": 3,
   "id": "4e16292d",
   "metadata": {},
   "outputs": [
    {
     "name": "stdout",
     "output_type": "stream",
     "text": [
      "{'', 'c', 'a', 'abc', 'bc', 'b', 'ac', 'ab'}\n",
      "{'', 'c', 'a', 'bcd', 'bc', 'abcd', 'abc', 'abd', 'd', 'acd', 'ad', 'b', 'cd', 'ac', 'ab', 'bd'}\n"
     ]
    }
   ],
   "source": [
    "def generateSubsets(s):\n",
    "    if len(s) == 0:\n",
    "        return {\"\"}\n",
    "\n",
    "    first = s[0]\n",
    "    subset = generateSubsets(s[1:])\n",
    "    result = set(subset)\n",
    "\n",
    "    for elem in subset:\n",
    "        result.add(first + elem)\n",
    "\n",
    "    return result\n",
    "print(generateSubsets(\"abc\"))\n",
    "# Output: {\"\", \"a\", \"b\", \"c\", \"ab\", \"ac\", \"bc\", \"abc\"}\n",
    "\n",
    "print(generateSubsets(\"abcd\"))\n",
    "# Output: {\"\", \"a\", \"ab\", \"abc\", \"abcd\", \"abd\", \"ac\", \"acd\", \"ad\", \"b\", \"bc\", \"bcd\", \"bd\", \"c\", \"cd\", \"d\"}"
   ]
  },
  {
   "cell_type": "markdown",
   "id": "bdc5eb5b",
   "metadata": {},
   "source": [
    "### Question 4 Given a string calculate length of the string using recursion.\n",
    "Examples:"
   ]
  },
  {
   "cell_type": "code",
   "execution_count": 4,
   "id": "bf553058",
   "metadata": {},
   "outputs": [
    {
     "name": "stdout",
     "output_type": "stream",
     "text": [
      "5\n",
      "0\n",
      "3\n"
     ]
    }
   ],
   "source": [
    "def calculateLength(s):\n",
    "    if s == \"\":\n",
    "        return 0\n",
    "\n",
    "    return 1 + calculateLength(s[1:])\n",
    "print(calculateLength(\"Hello\"))  # Output: 5\n",
    "print(calculateLength(\"\"))       # Output: 0\n",
    "print(calculateLength(\"abc\"))    # Output: 3"
   ]
  },
  {
   "cell_type": "markdown",
   "id": "afae908d",
   "metadata": {},
   "source": [
    "### Question 5 We are given a string S, we need to find count of all contiguous substrings starting and ending with same character.\n",
    "Examples :"
   ]
  },
  {
   "cell_type": "code",
   "execution_count": 5,
   "id": "6602943f",
   "metadata": {},
   "outputs": [
    {
     "name": "stdout",
     "output_type": "stream",
     "text": [
      "3\n",
      "6\n"
     ]
    }
   ],
   "source": [
    "def countSubstrings(S):\n",
    "    count = 0\n",
    "\n",
    "    for i in range(len(S)):\n",
    "        for j in range(i, len(S)):\n",
    "            if S[i] == S[j]:\n",
    "                count += 1\n",
    "\n",
    "    return count\n",
    "print(countSubstrings(\"abc\"))  # Output: 3\n",
    "print(countSubstrings(\"aaa\"))  # Output: 6"
   ]
  },
  {
   "cell_type": "markdown",
   "id": "5794ab02",
   "metadata": {},
   "source": [
    "### Question 6 The tower of Hanoi is a famous puzzle where we have three rods and N disks. The objective of the puzzle is to move the entire stack to another rod. You are given the number of discs N. Initially, these discs are in the rod 1. You need to print all the steps of discs movement so that all the discs reach the 3rd rod. Also, you need to find the total moves.Note: The discs are arranged such that the top disc is numbered 1 and the bottom-most disc is numbered N. Also, all the discs have different sizes and a bigger disc cannot be put on the top of a smaller disc. Refer the provided link to get a better clarity about the puzzle.\n",
    "Example 1:\n",
    "\n",
    "Input:\n",
    "N = 2\n",
    "Output:\n",
    "move disk 1 from rod 1 to rod 2\n",
    "move disk 2 from rod 1 to rod 3\n",
    "move disk 1 from rod 2 to rod 3\n",
    "3\n",
    "Explanation:For N=2 , steps will be\n",
    "as follows in the example and total\n",
    "3 steps will be taken.\n",
    "Example 2:\n",
    "\n",
    "Input:\n",
    "N = 3\n",
    "Output:\n",
    "move disk 1 from rod 1 to rod 3\n",
    "move disk 2 from rod 1 to rod 2\n",
    "move disk 1 from rod 3 to rod 2\n",
    "move disk 3 from rod 1 to rod 3\n",
    "move disk 1 from rod 2 to rod 1\n",
    "move disk 2 from rod 2 to rod 3\n",
    "move disk 1 from rod 1 to rod 3\n",
    "7\n",
    "Explanation:For N=3 , steps will be\n",
    "as follows in the example and total\n",
    "7 steps will be taken."
   ]
  },
  {
   "cell_type": "code",
   "execution_count": 7,
   "id": "6a4dc7f4",
   "metadata": {},
   "outputs": [
    {
     "name": "stdout",
     "output_type": "stream",
     "text": [
      "move disk 1 from rod 1 to rod 2\n",
      "move disk 2 from rod 1 to rod 3\n",
      "move disk 1 from rod 2 to rod 3\n",
      "3\n"
     ]
    }
   ],
   "source": [
    "def towerOfHanoi(N, source, destination, auxiliary):\n",
    "    if N == 1:\n",
    "        print(\"move disk 1 from rod\", source, \"to rod\", destination)\n",
    "        return 1\n",
    "\n",
    "    moves = 0\n",
    "    moves += towerOfHanoi(N-1, source, auxiliary, destination)\n",
    "    print(\"move disk\", N, \"from rod\", source, \"to rod\", destination)\n",
    "    moves += 1\n",
    "    moves += towerOfHanoi(N-1, auxiliary, destination, source)\n",
    "\n",
    "    return moves\n",
    "N = 2\n",
    "totalMoves = towerOfHanoi(N, 1, 3, 2)\n",
    "print(totalMoves)"
   ]
  },
  {
   "cell_type": "code",
   "execution_count": null,
   "id": "e790aef3",
   "metadata": {},
   "outputs": [],
   "source": [
    "###"
   ]
  }
 ],
 "metadata": {
  "kernelspec": {
   "display_name": "Python 3 (ipykernel)",
   "language": "python",
   "name": "python3"
  },
  "language_info": {
   "codemirror_mode": {
    "name": "ipython",
    "version": 3
   },
   "file_extension": ".py",
   "mimetype": "text/x-python",
   "name": "python",
   "nbconvert_exporter": "python",
   "pygments_lexer": "ipython3",
   "version": "3.9.7"
  }
 },
 "nbformat": 4,
 "nbformat_minor": 5
}
