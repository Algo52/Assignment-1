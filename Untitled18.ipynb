{
 "cells": [
  {
   "cell_type": "markdown",
   "id": "44051db4",
   "metadata": {},
   "source": [
    "## Assignment - 3"
   ]
  },
  {
   "cell_type": "markdown",
   "id": "c363a3a5",
   "metadata": {},
   "source": [
    "1. Why are functions advantageous to have in your programs?\n",
    "- Functions reduce the need for duplicate code. \n",
    "- Python Functions prevents us from writing same logic multiple times. \n",
    "- This makes programs shorter, easier to read,and we can call it any time ."
   ]
  },
  {
   "cell_type": "markdown",
   "id": "4b9815dc",
   "metadata": {},
   "source": [
    "2. When does the code in a function run: when it's specified or when it's called?\n",
    "- The code in a function executes when the function is called, not when the function is defined."
   ]
  },
  {
   "cell_type": "markdown",
   "id": "c0a016f0",
   "metadata": {},
   "source": [
    "3. What statement creates a function?\n",
    "- The def statement  creates a function. def function_name():"
   ]
  },
  {
   "cell_type": "markdown",
   "id": "f91126b4",
   "metadata": {},
   "source": [
    "4. What is the difference between a function and a function call?"
   ]
  },
  {
   "cell_type": "code",
   "execution_count": 16,
   "id": "7c3675bd",
   "metadata": {},
   "outputs": [
    {
     "data": {
      "text/plain": [
       "11"
      ]
     },
     "execution_count": 16,
     "metadata": {},
     "output_type": "execute_result"
    }
   ],
   "source": [
    "def test(a,b): ##this is function and function is useless unless it is invoked or called.\n",
    "    return a+ b\n",
    "\n",
    "## A function call is the code used to pass control to a function.\n",
    "\n",
    "\n",
    "\n",
    "b = test(5,6) ##This is function call\n",
    "b"
   ]
  },
  {
   "cell_type": "markdown",
   "id": "53e92ed8",
   "metadata": {},
   "source": [
    "5. How many global scopes are there in a Python program? How many local scopes?¶\n",
    "\n",
    "- There are 1 global scopes and 1 local scope in the python program."
   ]
  },
  {
   "cell_type": "markdown",
   "id": "35ab9fc5",
   "metadata": {},
   "source": [
    "6. What happens to variables in a local scope when the function call returns?\n",
    "- The local variables will be  destroyed when function call returns."
   ]
  },
  {
   "cell_type": "markdown",
   "id": "54841ba9",
   "metadata": {},
   "source": [
    "7.What is the concept of a return value? Is it possible to have a return value in an expression?\n",
    "- Return value is value, varible or expression which a function can return.\n",
    "- Yes function return value can be an expression"
   ]
  },
  {
   "cell_type": "code",
   "execution_count": 17,
   "id": "20aa3e14",
   "metadata": {},
   "outputs": [
    {
     "data": {
      "text/plain": [
       "42"
      ]
     },
     "execution_count": 17,
     "metadata": {},
     "output_type": "execute_result"
    }
   ],
   "source": [
    "def return_42():\n",
    "    return 42  # An explicit return statement\n",
    "\n",
    "return_42()  # The caller code gets 42\n",
    "42"
   ]
  },
  {
   "cell_type": "markdown",
   "id": "96307b62",
   "metadata": {},
   "source": [
    "8. If a function does not have a return statement, what is the return value of a call to that function?\n",
    "- The function always returns None type if explicit return is not written."
   ]
  },
  {
   "cell_type": "markdown",
   "id": "09e529e1",
   "metadata": {},
   "source": [
    "9. How do you make a function variable refer to the global variable?\n",
    "- You can use a global variable within other functions by declaring it as global within each function that assigns a value to it"
   ]
  },
  {
   "cell_type": "markdown",
   "id": "f651f8de",
   "metadata": {},
   "source": [
    "10. What is the data type of None?\n",
    "\n",
    "- None data type is a null variable or null object.\n"
   ]
  },
  {
   "cell_type": "markdown",
   "id": "4899f736",
   "metadata": {},
   "source": [
    "11. What does the sentence import areallyourpetsnamederic do?¶\n",
    "\n",
    "- The statement \"import areallyourpetsnamederic\" will import the module or package named areallyourpetsnamederic."
   ]
  },
  {
   "cell_type": "markdown",
   "id": "1273fe5b",
   "metadata": {},
   "source": [
    "12. If you had a bacon() feature in a spam module, what would you call it after importing spam?\n",
    "- spam.bacon()"
   ]
  },
  {
   "cell_type": "markdown",
   "id": "cd045c55",
   "metadata": {},
   "source": [
    "13. What can you do to save a programme from crashing if it encounters an error?\n",
    "- To save the program from crashing over a runtime error we can use the try and except statement."
   ]
  },
  {
   "cell_type": "markdown",
   "id": "95180a73",
   "metadata": {},
   "source": [
    "14. What is the purpose of the try clause? What is the purpose of the except clause?\n",
    "- Try: Try block is used for any suspicious code which can throw a runtime error.\n",
    "- Except: Except block is used to catch error if any encountered inside try block.\n",
    "- The finally block lets you execute code, regardless of the result of the try- and except blocks."
   ]
  },
  {
   "cell_type": "code",
   "execution_count": null,
   "id": "d8d5d351",
   "metadata": {},
   "outputs": [],
   "source": []
  }
 ],
 "metadata": {
  "kernelspec": {
   "display_name": "Python 3 (ipykernel)",
   "language": "python",
   "name": "python3"
  },
  "language_info": {
   "codemirror_mode": {
    "name": "ipython",
    "version": 3
   },
   "file_extension": ".py",
   "mimetype": "text/x-python",
   "name": "python",
   "nbconvert_exporter": "python",
   "pygments_lexer": "ipython3",
   "version": "3.9.7"
  }
 },
 "nbformat": 4,
 "nbformat_minor": 5
}
