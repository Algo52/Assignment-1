{
 "cells": [
  {
   "cell_type": "markdown",
   "id": "3ae8fd0e",
   "metadata": {},
   "source": [
    "##   1. What exactly is []?\n",
    "- it is a empty list"
   ]
  },
  {
   "cell_type": "markdown",
   "id": "5e34b821",
   "metadata": {},
   "source": [
    "## 2. In a list of values stored in a variable called spam, how would you assign the value 'hello' as the third value? (Assume [2, 4, 6, 8, 10] are in spam.)"
   ]
  },
  {
   "cell_type": "code",
   "execution_count": 4,
   "id": "dac54aad",
   "metadata": {},
   "outputs": [],
   "source": [
    "spam=([2,4,6,8,10])"
   ]
  },
  {
   "cell_type": "code",
   "execution_count": 5,
   "id": "b635a44b",
   "metadata": {},
   "outputs": [],
   "source": [
    "spam[2]='hello'"
   ]
  },
  {
   "cell_type": "code",
   "execution_count": 6,
   "id": "753a2bce",
   "metadata": {},
   "outputs": [
    {
     "data": {
      "text/plain": [
       "[2, 4, 'hello', 8, 10]"
      ]
     },
     "execution_count": 6,
     "metadata": {},
     "output_type": "execute_result"
    }
   ],
   "source": [
    "spam"
   ]
  },
  {
   "cell_type": "code",
   "execution_count": 9,
   "id": "1375b5ab",
   "metadata": {},
   "outputs": [],
   "source": [
    "spam=['a','b','c','d']"
   ]
  },
  {
   "cell_type": "markdown",
   "id": "207770be",
   "metadata": {},
   "source": [
    "## 3. What is the value of spam[int(int('3' * 2) / 11)]?"
   ]
  },
  {
   "cell_type": "code",
   "execution_count": 10,
   "id": "6f77a4e2",
   "metadata": {},
   "outputs": [
    {
     "data": {
      "text/plain": [
       "'d'"
      ]
     },
     "execution_count": 10,
     "metadata": {},
     "output_type": "execute_result"
    }
   ],
   "source": [
    "spam[int(int('3' * 2) / 11)]"
   ]
  },
  {
   "cell_type": "markdown",
   "id": "e1de2163",
   "metadata": {},
   "source": [
    "## 4. What is the value of spam[-1]?"
   ]
  },
  {
   "cell_type": "code",
   "execution_count": 11,
   "id": "d5971fb5",
   "metadata": {},
   "outputs": [
    {
     "data": {
      "text/plain": [
       "'d'"
      ]
     },
     "execution_count": 11,
     "metadata": {},
     "output_type": "execute_result"
    }
   ],
   "source": [
    "spam[-1]"
   ]
  },
  {
   "cell_type": "markdown",
   "id": "216e4db0",
   "metadata": {},
   "source": [
    "## 5. What is the value of spam[:2]?"
   ]
  },
  {
   "cell_type": "code",
   "execution_count": 15,
   "id": "99848a0b",
   "metadata": {},
   "outputs": [
    {
     "data": {
      "text/plain": [
       "['a', 'b']"
      ]
     },
     "execution_count": 15,
     "metadata": {},
     "output_type": "execute_result"
    }
   ],
   "source": [
    "spam[:2]"
   ]
  },
  {
   "cell_type": "markdown",
   "id": "9d01d219",
   "metadata": {},
   "source": [
    "##  Let&#39;s pretend bacon has the list [3.14, &#39;cat,&#39; 11, &#39;cat,&#39; True] for the next three questions."
   ]
  },
  {
   "cell_type": "code",
   "execution_count": 17,
   "id": "df9ffb41",
   "metadata": {},
   "outputs": [],
   "source": [
    "bacon=[3.14,'cat', 11, 'cat', True]"
   ]
  },
  {
   "cell_type": "markdown",
   "id": "4c9a2a66",
   "metadata": {},
   "source": [
    "## 6. What is the value of bacon.index(&#39;cat&#39;)?"
   ]
  },
  {
   "cell_type": "code",
   "execution_count": 18,
   "id": "e67364ef",
   "metadata": {},
   "outputs": [
    {
     "data": {
      "text/plain": [
       "1"
      ]
     },
     "execution_count": 18,
     "metadata": {},
     "output_type": "execute_result"
    }
   ],
   "source": [
    "bacon.index('cat')"
   ]
  },
  {
   "cell_type": "markdown",
   "id": "e8cee6a8",
   "metadata": {},
   "source": [
    "## 7. How does bacon.append(99) change the look of the list value in bacon?"
   ]
  },
  {
   "cell_type": "code",
   "execution_count": 22,
   "id": "1bbb19ad",
   "metadata": {},
   "outputs": [],
   "source": [
    "bacon.append(99)"
   ]
  },
  {
   "cell_type": "code",
   "execution_count": 20,
   "id": "710689e6",
   "metadata": {},
   "outputs": [
    {
     "data": {
      "text/plain": [
       "[3.14, 'cat', 11, 'cat', True, 99]"
      ]
     },
     "execution_count": 20,
     "metadata": {},
     "output_type": "execute_result"
    }
   ],
   "source": [
    "bacon"
   ]
  },
  {
   "cell_type": "markdown",
   "id": "5a7bd604",
   "metadata": {},
   "source": [
    "## 8. How does bacon.remove(&#39;cat&#39;) change the look of the list in bacon?"
   ]
  },
  {
   "cell_type": "code",
   "execution_count": 24,
   "id": "739a79a8",
   "metadata": {},
   "outputs": [
    {
     "name": "stdout",
     "output_type": "stream",
     "text": [
      "[3.14, 11, True, 99, 99]\n"
     ]
    }
   ],
   "source": [
    "bacon.remove('cat')\n",
    "print(bacon)"
   ]
  },
  {
   "cell_type": "markdown",
   "id": "a1b8968a",
   "metadata": {},
   "source": [
    "## 9. What are the list concatenation and list replication operators?\n",
    "- The operator for list concatenation is + \n",
    "- the operator for replication is *"
   ]
  },
  {
   "cell_type": "markdown",
   "id": "b5557a78",
   "metadata": {},
   "source": [
    "## 10. What is difference between the list methods append() and insert()?\n",
    "- append() funciton  can only add an element to the end of the list.\n",
    "-  insert() function allows you to add an element anywhere in the list using index."
   ]
  },
  {
   "cell_type": "markdown",
   "id": "bee6a6dc",
   "metadata": {},
   "source": [
    "## 11. What are the two methods for removing items from a list?\n",
    "- pop()\n",
    "- remove()"
   ]
  },
  {
   "cell_type": "markdown",
   "id": "f6e6b308",
   "metadata": {},
   "source": [
    "## 12. Describe how list values and string values are identical."
   ]
  },
  {
   "cell_type": "markdown",
   "id": "2d1fc757",
   "metadata": {},
   "source": [
    "## 13. What&#39;s the difference between tuples and lists?\n",
    "- the  lists are mutable whereas tuples are immutable."
   ]
  },
  {
   "cell_type": "markdown",
   "id": "87fc2a30",
   "metadata": {},
   "source": [
    "## 14. How do you type a tuple value that only contains the integer 42?\n",
    "- tuple(42,)"
   ]
  },
  {
   "cell_type": "markdown",
   "id": "3c961922",
   "metadata": {},
   "source": [
    "## 15. How do you get a list value's tuple form? How do you get a tuple value's list form?"
   ]
  },
  {
   "cell_type": "code",
   "execution_count": 28,
   "id": "5b44eeb3",
   "metadata": {},
   "outputs": [
    {
     "name": "stdout",
     "output_type": "stream",
     "text": [
      "(1, 2, 3, 4)\n"
     ]
    }
   ],
   "source": [
    "l=[1,2,3,4]\n",
    "l1=tuple(l)\n",
    "print(l1)"
   ]
  },
  {
   "cell_type": "code",
   "execution_count": 30,
   "id": "d2317c69",
   "metadata": {},
   "outputs": [
    {
     "name": "stdout",
     "output_type": "stream",
     "text": [
      "[1, 2, 3, 4, 'hemanth']\n"
     ]
    }
   ],
   "source": [
    "T=(1,2,3,4,'hemanth')\n",
    "T1=list(T)\n",
    "print(T1)"
   ]
  },
  {
   "cell_type": "markdown",
   "id": "eccff3fd",
   "metadata": {},
   "source": [
    "## 16. Variables that &quot;contain&quot; list values are not necessarily lists themselves. Instead, what do they contain?\n",
    "\n",
    "- They contain references to list values"
   ]
  },
  {
   "cell_type": "markdown",
   "id": "e29a3abd",
   "metadata": {},
   "source": [
    "## 17. How do you distinguish between copy.copy() and copy.deepcopy()?\n",
    "- The copy.copy() function will do a shallow copy of a list, \n",
    "- The copy.deepcopy() function will do a deep copy of a list. only copy.deepcopy() will duplicate any lists inside the \n",
    "list"
   ]
  },
  {
   "cell_type": "code",
   "execution_count": null,
   "id": "823ca2c2",
   "metadata": {},
   "outputs": [],
   "source": []
  }
 ],
 "metadata": {
  "kernelspec": {
   "display_name": "Python 3 (ipykernel)",
   "language": "python",
   "name": "python3"
  },
  "language_info": {
   "codemirror_mode": {
    "name": "ipython",
    "version": 3
   },
   "file_extension": ".py",
   "mimetype": "text/x-python",
   "name": "python",
   "nbconvert_exporter": "python",
   "pygments_lexer": "ipython3",
   "version": "3.9.7"
  }
 },
 "nbformat": 4,
 "nbformat_minor": 5
}
