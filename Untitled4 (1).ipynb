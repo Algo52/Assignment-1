{
 "cells": [
  {
   "cell_type": "raw",
   "id": "98ac220b",
   "metadata": {},
   "source": [
    "1. In the below elements which of them are values or an expression? eg:- values can be\n",
    "integer or string and expressions will be mathematical operators.\n",
    "\n",
    "* =expression\n",
    "\n",
    "& =expression \n",
    "\n",
    "-87.8=values\n",
    "\n",
    "hello= values\n",
    "\n",
    "- = expression\n",
    "\n",
    "/ =expression\n",
    "\n",
    "+ =expression\n",
    "\n",
    "6 =values\n",
    "\n",
    " \n"
   ]
  },
  {
   "cell_type": "raw",
   "id": "d7f7d9fb",
   "metadata": {},
   "source": [
    "2. What is the difference between string and variable?\n",
    " \n",
    "    string is a  sequenced characters and is written inside single quotes, double quotes or triple quotes.\n",
    "    variable is used to hold value OR  for storing data values ETC.\n",
    "    "
   ]
  },
  {
   "cell_type": "raw",
   "id": "3c3ac64c",
   "metadata": {},
   "source": [
    "3. Describe three different data types.\n",
    "\n",
    "   \n",
    "\"Hello World\"\tstr=\n",
    " 20\t            int=\n",
    " 20.5\t        float\n",
    "  6+5j           complex\n",
    "   "
   ]
  },
  {
   "cell_type": "raw",
   "id": "dcb0b846",
   "metadata": {},
   "source": [
    "\n",
    "4. What is an expression made up of? What do all expressions do?\n"
   ]
  },
  {
   "cell_type": "raw",
   "id": "f79283a9",
   "metadata": {},
   "source": [
    "5. This assignment statements, like spam = 10. What is the difference between an\n",
    "Zxpression and a statement?"
   ]
  },
  {
   "cell_type": "code",
   "execution_count": 8,
   "id": "29aa241e",
   "metadata": {},
   "outputs": [
    {
     "data": {
      "text/plain": [
       "23"
      ]
     },
     "execution_count": 8,
     "metadata": {},
     "output_type": "execute_result"
    }
   ],
   "source": [
    "6. After running the following code, what does the variable bacon contain?\n",
    "bacon = 22\n",
    "bacon + 1\n"
   ]
  },
  {
   "cell_type": "code",
   "execution_count": 15,
   "id": "6ccc3ebe",
   "metadata": {},
   "outputs": [],
   "source": [
    "7. What should the values of the following two terms be?\n",
    "a=  'spam'*3"
   ]
  },
  {
   "cell_type": "code",
   "execution_count": 16,
   "id": "53271c49",
   "metadata": {},
   "outputs": [
    {
     "data": {
      "text/plain": [
       "'spamspamspam'"
      ]
     },
     "execution_count": 16,
     "metadata": {},
     "output_type": "execute_result"
    }
   ],
   "source": [
    "a"
   ]
  },
  {
   "cell_type": "code",
   "execution_count": 17,
   "id": "01c49910",
   "metadata": {},
   "outputs": [],
   "source": [
    "b='spam'+'spamspam'"
   ]
  },
  {
   "cell_type": "code",
   "execution_count": 18,
   "id": "de31da6f",
   "metadata": {},
   "outputs": [
    {
     "data": {
      "text/plain": [
       "'spamspamspam'"
      ]
     },
     "execution_count": 18,
     "metadata": {},
     "output_type": "execute_result"
    }
   ],
   "source": [
    "b"
   ]
  },
  {
   "cell_type": "raw",
   "id": "5ce2736a",
   "metadata": {},
   "source": [
    "8. Why is eggs a valid variable name while 100 is invalid?\n",
    "     \n",
    "     Variable names cannot begin with a number."
   ]
  },
  {
   "cell_type": "raw",
   "id": "6bb99a33",
   "metadata": {},
   "source": [
    "9.  What three functions can be used to get the integer, floating-point number, or string version of a value?\n",
    "\n",
    "   int(), float(), and str() "
   ]
  },
  {
   "cell_type": "raw",
   "id": "27d1cf51",
   "metadata": {},
   "source": [
    "10. Why does this expression cause an error? How can you fix it?\n",
    "     \n",
    "    'i have eaten'+99+'burritos'\n",
    "     \n",
    "     \n",
    "     Because 99 is an integer and only strings can be concatenated to other strings.\n",
    "     \n",
    "    'I have eaten ' + str(99) + ' burritos.'"
   ]
  },
  {
   "cell_type": "code",
   "execution_count": 21,
   "id": "55d69cc4",
   "metadata": {},
   "outputs": [
    {
     "data": {
      "text/plain": [
       "'I have eaten 99 burritos.'"
      ]
     },
     "execution_count": 21,
     "metadata": {},
     "output_type": "execute_result"
    }
   ],
   "source": [
    "'I have eaten ' + str(99) + ' burritos.'"
   ]
  },
  {
   "cell_type": "code",
   "execution_count": null,
   "id": "a13d6f23",
   "metadata": {},
   "outputs": [],
   "source": []
  }
 ],
 "metadata": {
  "kernelspec": {
   "display_name": "Python 3 (ipykernel)",
   "language": "python",
   "name": "python3"
  },
  "language_info": {
   "codemirror_mode": {
    "name": "ipython",
    "version": 3
   },
   "file_extension": ".py",
   "mimetype": "text/x-python",
   "name": "python",
   "nbconvert_exporter": "python",
   "pygments_lexer": "ipython3",
   "version": "3.9.7"
  }
 },
 "nbformat": 4,
 "nbformat_minor": 5
}
